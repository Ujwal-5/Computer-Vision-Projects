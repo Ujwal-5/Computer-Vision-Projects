{
 "cells": [
  {
   "cell_type": "code",
   "execution_count": 1,
   "metadata": {},
   "outputs": [
    {
     "name": "stderr",
     "output_type": "stream",
     "text": [
      "/home/ujwal/anaconda3/envs/huggingface/lib/python3.8/site-packages/tqdm/auto.py:22: TqdmWarning: IProgress not found. Please update jupyter and ipywidgets. See https://ipywidgets.readthedocs.io/en/stable/user_install.html\n",
      "  from .autonotebook import tqdm as notebook_tqdm\n",
      "playsound is relying on another python subprocess. Please use `pip install pygobject` if you want playsound to run more efficiently.\n",
      "2023-02-21 12:30:15.706388: I tensorflow/core/platform/cpu_feature_guard.cc:193] This TensorFlow binary is optimized with oneAPI Deep Neural Network Library (oneDNN) to use the following CPU instructions in performance-critical operations:  AVX2 FMA\n",
      "To enable them in other operations, rebuild TensorFlow with the appropriate compiler flags.\n",
      "2023-02-21 12:30:15.865720: W tensorflow/compiler/xla/stream_executor/platform/default/dso_loader.cc:64] Could not load dynamic library 'libcudart.so.11.0'; dlerror: libcudart.so.11.0: cannot open shared object file: No such file or directory; LD_LIBRARY_PATH: /home/ujwal/anaconda3/envs/huggingface/lib/python3.8/site-packages/cv2/../../lib64:\n",
      "2023-02-21 12:30:15.865779: I tensorflow/compiler/xla/stream_executor/cuda/cudart_stub.cc:29] Ignore above cudart dlerror if you do not have a GPU set up on your machine.\n",
      "2023-02-21 12:30:16.597299: W tensorflow/compiler/xla/stream_executor/platform/default/dso_loader.cc:64] Could not load dynamic library 'libnvinfer.so.7'; dlerror: libnvinfer.so.7: cannot open shared object file: No such file or directory; LD_LIBRARY_PATH: /home/ujwal/anaconda3/envs/huggingface/lib/python3.8/site-packages/cv2/../../lib64:\n",
      "2023-02-21 12:30:16.597366: W tensorflow/compiler/xla/stream_executor/platform/default/dso_loader.cc:64] Could not load dynamic library 'libnvinfer_plugin.so.7'; dlerror: libnvinfer_plugin.so.7: cannot open shared object file: No such file or directory; LD_LIBRARY_PATH: /home/ujwal/anaconda3/envs/huggingface/lib/python3.8/site-packages/cv2/../../lib64:\n",
      "2023-02-21 12:30:16.597374: W tensorflow/compiler/tf2tensorrt/utils/py_utils.cc:38] TF-TRT Warning: Cannot dlopen some TensorRT libraries. If you would like to use Nvidia GPU with TensorRT, please make sure the missing libraries mentioned above are installed properly.\n",
      "/home/ujwal/anaconda3/envs/huggingface/lib/python3.8/site-packages/transformers/models/owlvit/image_processing_owlvit.py:348: FutureWarning: `post_process` is deprecated and will be removed in v5 of Transformers, please use `post_process_object_detection`\n",
      "  warnings.warn(\n"
     ]
    },
    {
     "ename": "KeyboardInterrupt",
     "evalue": "",
     "output_type": "error",
     "traceback": [
      "\u001b[0;31m---------------------------------------------------------------------------\u001b[0m",
      "\u001b[0;31mKeyboardInterrupt\u001b[0m                         Traceback (most recent call last)",
      "Cell \u001b[0;32mIn[1], line 69\u001b[0m\n\u001b[1;32m     67\u001b[0m     \u001b[39m# Wait until the next capture time\u001b[39;00m\n\u001b[1;32m     68\u001b[0m     \u001b[39mwhile\u001b[39;00m time\u001b[39m.\u001b[39mtime() \u001b[39m-\u001b[39m current_time \u001b[39m<\u001b[39m interval:\n\u001b[0;32m---> 69\u001b[0m         time\u001b[39m.\u001b[39;49msleep(\u001b[39m1\u001b[39;49m)\n\u001b[1;32m     71\u001b[0m \u001b[39m# Release the video capture device\u001b[39;00m\n\u001b[1;32m     72\u001b[0m cap\u001b[39m.\u001b[39mrelease()\n",
      "\u001b[0;31mKeyboardInterrupt\u001b[0m: "
     ]
    }
   ],
   "source": [
    "import cv2\n",
    "import time\n",
    "import torch\n",
    "from playsound import playsound\n",
    "\n",
    "from transformers import OwlViTProcessor, OwlViTForObjectDetection\n",
    "\n",
    "# loading the downloaded model from pc\n",
    "processor = OwlViTProcessor.from_pretrained(\"/home/ujwal/AI/owlvit-base-patch32\")\n",
    "model = OwlViTForObjectDetection.from_pretrained(\"/home/ujwal/AI/owlvit-base-patch32\")\n",
    "\n",
    "# Initialize the video capture device\n",
    "cap = cv2.VideoCapture(0)\n",
    "\n",
    "# Set the image size\n",
    "cap.set(cv2.CAP_PROP_FRAME_WIDTH, 640)\n",
    "cap.set(cv2.CAP_PROP_FRAME_HEIGHT, 480)\n",
    "\n",
    "# Set the interval between images (in seconds)\n",
    "interval = 300  # 5 minutes\n",
    "\n",
    "while True:\n",
    "    # Get the current time\n",
    "    current_time = time.time()\n",
    "\n",
    "    # Capture a frame from the video device\n",
    "    ret, frame = cap.read()\n",
    "\n",
    "    # # Save the image\n",
    "\n",
    "    image = frame\n",
    "    texts = [[\"cat\", \"dog\"]]\n",
    "    inputs = processor(text=texts, images=image, return_tensors=\"pt\")\n",
    "    outputs = model(**inputs)\n",
    "\n",
    "    # Target image sizes (height, width) to rescale box predictions [batch_size, 2]\n",
    "    target_sizes = torch.Tensor([image.shape[1::-1]])\n",
    "    # Convert outputs (bounding boxes and class logits) to COCO API\n",
    "    results = processor.post_process(outputs=outputs, target_sizes=target_sizes)\n",
    "\n",
    "    # Track number of detected cats and dogs\n",
    "    num_cats = 0\n",
    "    num_dogs = 0\n",
    "\n",
    "    for i in range(len(texts)):\n",
    "        text = texts[i]\n",
    "        boxes, scores, labels = results[i][\"boxes\"], results[i][\"scores\"], results[i][\"labels\"]\n",
    "\n",
    "        # Print detected objects and rescaled box coordinates\n",
    "        score_threshold = 0.1\n",
    "        for box, score, label in zip(boxes, scores, labels):\n",
    "            box = [round(i, 2) for i in box.tolist()]\n",
    "            if score >= score_threshold:\n",
    "                if text[label] == \"cat\":\n",
    "                    num_cats += 1\n",
    "                    print(f\"Detected {text[label]} with confidence {round(score.item(), 3)} at location {box}\")\n",
    "                    if num_cats > 2:\n",
    "                        print(f\"ALERT: More than 2 cats detected!\")\n",
    "                        playsound(\"alarm.wav\")\n",
    "                elif text[label] == \"dog\":\n",
    "                    num_dogs += 1\n",
    "                    print(f\"Detected {text[label]} with confidence {round(score.item(), 3)} at location {box}\")\n",
    "                    print(\"ALERT: Dog detected!\")\n",
    "                    playsound(\"alarm.wav\")\n",
    "\n",
    "    # Wait until the next capture time\n",
    "    while time.time() - current_time < interval:\n",
    "        time.sleep(1)\n",
    "\n",
    "# Release the video capture device\n",
    "cap.release()"
   ]
  }
 ],
 "metadata": {
  "kernelspec": {
   "display_name": "huggingface",
   "language": "python",
   "name": "python3"
  },
  "language_info": {
   "codemirror_mode": {
    "name": "ipython",
    "version": 3
   },
   "file_extension": ".py",
   "mimetype": "text/x-python",
   "name": "python",
   "nbconvert_exporter": "python",
   "pygments_lexer": "ipython3",
   "version": "3.8.16"
  },
  "orig_nbformat": 4,
  "vscode": {
   "interpreter": {
    "hash": "322e34a362b51c54a1e302de1b174a9ecf6af090dd906b9df43003670edda33d"
   }
  }
 },
 "nbformat": 4,
 "nbformat_minor": 2
}
